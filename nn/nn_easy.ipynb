{
 "cells": [
  {
   "cell_type": "code",
   "execution_count": 9,
   "metadata": {
    "collapsed": false
   },
   "outputs": [
    {
     "data": {
      "text/plain": [
       "array([[0.1 , 0.14, 0.18, 0.22, 0.26, 0.3 , 0.34, 0.38, 0.42, 0.46, 0.5 ,\n        0.54, 0.58, 0.62, 0.66, 0.7 , 0.74, 0.78, 0.82, 0.86],\n       [0.11, 0.15, 0.19, 0.23, 0.27, 0.31, 0.35, 0.39, 0.43, 0.47, 0.51,\n        0.55, 0.59, 0.63, 0.67, 0.71, 0.75, 0.79, 0.83, 0.87],\n       [0.12, 0.16, 0.2 , 0.24, 0.28, 0.32, 0.36, 0.4 , 0.44, 0.48, 0.52,\n        0.56, 0.6 , 0.64, 0.68, 0.72, 0.76, 0.8 , 0.84, 0.88],\n       [0.13, 0.17, 0.21, 0.25, 0.29, 0.33, 0.37, 0.41, 0.45, 0.49, 0.53,\n        0.57, 0.61, 0.65, 0.69, 0.73, 0.77, 0.81, 0.85, 0.89]])"
      ]
     },
     "execution_count": 9,
     "metadata": {},
     "output_type": "execute_result"
    }
   ],
   "source": [
    "import numpy as np\n",
    "import math\n",
    "testData = np.arange(0.1,0.9,0.01).reshape(-1,4) # -1就是自动排\n",
    "testData = np.transpose(testData)\n",
    "testData"
   ]
  },
  {
   "cell_type": "code",
   "execution_count": 10,
   "metadata": {},
   "outputs": [
    {
     "data": {
      "text/plain": [
       "array([[0.1, 0.9, 0.1, 0.9],\n       [0.9, 0.1, 0.1, 0.9],\n       [0.9, 0.9, 0.1, 0.1]])"
      ]
     },
     "execution_count": 10,
     "metadata": {},
     "output_type": "execute_result"
    }
   ],
   "source": [
    "td = np.array([[0.1,0.9,0.9],\n",
    "              [0.9,0.1,0.9],\n",
    "              [0.1,0.1,0.1],\n",
    "              [0.9,0.9,0.1]])\n",
    "td = np.transpose(td)\n",
    "td"
   ]
  },
  {
   "cell_type": "code",
   "execution_count": 14,
   "metadata": {},
   "outputs": [],
   "source": [
    "def addBias(arr):\n",
    "    b = np.array([[1]])\n",
    "    b = np.repeat(b,arr.shape[1],axis=1)\n",
    "    c = np.vstack((arr,b))\n",
    "    return c\n",
    "\n",
    "def sigmoid(x):\n",
    "    return 1.0/(1.0+math.exp(-x))\n",
    "\n",
    "def dsingmoid(y): # sigmoid 函数求导\n",
    "    return y*(1.0-y)\n",
    "\n",
    "sigmoid_ufunc = np.vectorize(sigmoid, otypes=[np.float])\n",
    "dsingmoid_ufunc = np.vectorize(dsingmoid, otypes=[np.float])"
   ]
  },
  {
   "cell_type": "code",
   "execution_count": null,
   "metadata": {},
   "outputs": [],
   "source": [
    "class Bpnn(object):\n",
    "    def __init__(self, ni, nh, no):\n",
    "        self.ni = ni\n",
    "        self.nh = nh\n",
    "        self.no = no\n",
    "        \n",
    "        self.alpha = 0.2\n",
    "        self.beata = 0.5\n",
    "        \n",
    "        self.a1 = 0\n",
    "        self.a2 = 0\n",
    "        self.a3 = 0\n",
    "        \n",
    "        self.z2 = 0\n",
    "        self.z3 = 0\n",
    "        \n",
    "        self.d3 = \n",
    "        "
   ]
  }
 ],
 "metadata": {
  "kernelspec": {
   "display_name": "Python 2",
   "language": "python",
   "name": "python2"
  },
  "language_info": {
   "codemirror_mode": {
    "name": "ipython",
    "version": 2.0
   },
   "file_extension": ".py",
   "mimetype": "text/x-python",
   "name": "python",
   "nbconvert_exporter": "python",
   "pygments_lexer": "ipython2",
   "version": "2.7.6"
  }
 },
 "nbformat": 4,
 "nbformat_minor": 0
}