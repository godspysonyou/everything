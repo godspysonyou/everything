{
 "cells": [
  {
   "cell_type": "code",
   "execution_count": 1,
   "metadata": {
    "collapsed": false
   },
   "outputs": [
    {
     "data": {
      "text/plain": [
       "'\\n类型: 抽象类\\n说明: 规则化数据接口，一般用于数据预处理\\n'"
      ]
     },
     "execution_count": 1,
     "metadata": {},
     "output_type": "execute_result"
    }
   ],
   "source": [
    "import argparse\n",
    "import time\n",
    "import copy\n",
    "import numpy as np\n",
    "import matplotlib.pyplot as plt\n",
    "\n",
    "'''\n",
    "类型: 抽象类\n",
    "说明: 规则化数据接口，一般用于数据预处理\n",
    "'''"
   ]
  },
  {
   "cell_type": "code",
   "execution_count": 2,
   "metadata": {},
   "outputs": [],
   "source": [
    "class interface_normalize_data(object):\n",
    "    '''\n",
    "    类型: 公有成员变量\n",
    "    说明: 规则化数据过程中，定义一个无穷小精度，用来防止数据计算中的非法操作。\n",
    "    '''\n",
    "    epsilon = 1e-8\n",
    "    '''\n",
    "    类型: 抽象公有成员函数\n",
    "    说明: 用来规则化数据\n",
    "    参数: \n",
    "        data -- 待处理数据\n",
    "    返回值: \n",
    "        data -- 处理后的数据\n",
    "    '''\n",
    "    def normalize_data(self, data):\n",
    "        pass\n",
    "\n",
    "\n",
    "'''\n",
    "类型: 实体类，继承自抽象类interface_normalize_data\n",
    "说明: 用于中心化数据，使数据中心在坐标原点上\n",
    "'''\n",
    "\n",
    "\n",
    "class mean_normalization(interface_normalize_data):\n",
    "    def normalize_data(self, data):\n",
    "        data = data - np.mean(data, axis=1, keepdims=True)\n",
    "        # 计算数据每个维度的方差\n",
    "        variance = np.mean(np.square((data), axis=1, keepdims=True))\n",
    "        # 除以方差并在除数上加上无穷小精度\n",
    "        data = data / (variance + self.epsilon)\n",
    "        return data\n",
    "\n",
    "\n",
    "'''\n",
    "类型: 实体类，继承自抽象类interfae_normalize_data\n",
    "说明: 用于Z-Score统计，与上述实体类的区别是除以标准差而不是方差\n",
    "'''\n",
    "\n",
    "\n",
    "class zscore_normalization(interface_normalize_data):\n",
    "    def normalize_data(self, data):\n",
    "        data = data - np.mean(data, axis=1, keepdims=True)\n",
    "        variance = np.mean(np.square(data), axis=1, keepdims=True)\n",
    "        data = data / np.sqrt(variance + self.epsilon)\n",
    "        return data\n",
    "\n",
    "'''\n",
    "类型： 抽象类\n",
    "说明： 神经网络初始化参数接口\n",
    "'''\n",
    "\n",
    "class interface_initialize_parameters(object):\n",
    "    '''\n",
    "    类型: 公有成员变量\n",
    "    说明: 用来定义输入层、隐藏层、输出层每层的神经元个数\n",
    "    '''\n",
    "    structure = None\n",
    "    '''\n",
    "    类型: 公有成员变量\n",
    "    说明: 随机种子，用来产生随机数\n",
    "    '''\n",
    "    seed = 1\n",
    "    '''\n",
    "    类型: 抽象公有成员函数\n",
    "    说明: 用来出水啊参数\n",
    "    '''\n",
    "    def initialize_parameters(self):\n",
    "        pass\n",
    "    \n",
    "'''\n",
    "类型: 实体类\n",
    "说明： 标准的x-avier参数初始化，继承自抽象类interface_initialize_parameters\n",
    "'''\n",
    "class xavier_initialize_parameters(interface_initialize_parameters):\n",
    "    '''\n",
    "    类型： 公有成员函数\n",
    "    说明： 用来初始化参数\n",
    "    参数： 无\n",
    "    返回值：\n",
    "        parameters -- 返回初始化后的参数。\n",
    "    '''\n",
    "    def initialize_parameters(self):\n",
    "        np.random.seed(self.seed)\n",
    "        parameters = {}\n",
    "        \n",
    "        # 初始化两类参数，一种是W1、W2、W3...，另一种是b1 b2 b3...其中数字代表层数。\n",
    "        # W的维度为（当前神经元数、前一层神经元数）b的维度为（当前层神经元数）\n",
    "        for l in range(1,len(self.structure)):\n",
    "            parameters[\"W\" + str(1)]"
   ]
  },
  {
   "cell_type": "code",
   "execution_count": null,
   "metadata": {},
   "outputs": [],
   "source": [
    ""
   ]
  }
 ],
 "metadata": {
  "kernelspec": {
   "display_name": "Python 2",
   "language": "python",
   "name": "python2"
  },
  "language_info": {
   "codemirror_mode": {
    "name": "ipython",
    "version": 2.0
   },
   "file_extension": ".py",
   "mimetype": "text/x-python",
   "name": "python",
   "nbconvert_exporter": "python",
   "pygments_lexer": "ipython2",
   "version": "2.7.6"
  }
 },
 "nbformat": 4,
 "nbformat_minor": 0
}